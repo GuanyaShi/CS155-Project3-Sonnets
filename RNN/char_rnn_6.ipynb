{
 "cells": [
  {
   "cell_type": "code",
   "execution_count": 18,
   "metadata": {},
   "outputs": [],
   "source": [
    "import numpy as np\n",
    "from keras.models import Sequential\n",
    "from keras.layers.core import Dense, Activation, Dropout\n",
    "from keras.layers.recurrent import LSTM\n",
    "from keras.callbacks import ModelCheckpoint\n",
    "from keras.utils import np_utils\n",
    "import sys\n",
    "import string"
   ]
  },
  {
   "cell_type": "code",
   "execution_count": 2,
   "metadata": {},
   "outputs": [],
   "source": [
    "files = ['../data/shakespeare.txt'] \n",
    "text = ''\n",
    "\n",
    "for filename in files:\n",
    "    with open(filename) as f:\n",
    "        for line in f:\n",
    "            line = line.strip()\n",
    "            if len(line) > 0 and not line.isdigit():\n",
    "                text += line.lower() + '\\n'"
   ]
  },
  {
   "cell_type": "code",
   "execution_count": 3,
   "metadata": {},
   "outputs": [],
   "source": [
    "# create mapping of unique chars to integers\n",
    "chars = sorted(list(set(text)))\n",
    "char_to_int = dict((c, i) for i, c in enumerate(chars))\n",
    "int_to_char = dict((i, c) for i, c in enumerate(chars))"
   ]
  },
  {
   "cell_type": "code",
   "execution_count": 4,
   "metadata": {},
   "outputs": [
    {
     "name": "stdout",
     "output_type": "stream",
     "text": [
      "['\\n', ' ', '!', \"'\", '(', ')', ',', '-', '.', ':', ';', '?', 'a', 'b', 'c', 'd', 'e', 'f', 'g', 'h', 'i', 'j', 'k', 'l', 'm', 'n', 'o', 'p', 'q', 'r', 's', 't', 'u', 'v', 'w', 'x', 'y', 'z']\n",
      "Total Characters:  93674\n",
      "Total Vocab:  38\n"
     ]
    }
   ],
   "source": [
    "print(chars)\n",
    "n_chars = len(text)\n",
    "n_vocab = len(chars)\n",
    "print (\"Total Characters: \", n_chars)\n",
    "print (\"Total Vocab: \", n_vocab)"
   ]
  },
  {
   "cell_type": "code",
   "execution_count": 5,
   "metadata": {},
   "outputs": [
    {
     "name": "stdout",
     "output_type": "stream",
     "text": [
      "Total Patterns:  46817\n"
     ]
    }
   ],
   "source": [
    "# prepare the dataset of input to output pairs encoded as binary vectors\n",
    "seq_length = 40\n",
    "step = 2\n",
    "sentences = []\n",
    "next_chars = []\n",
    "for i in range(0, n_chars - seq_length, step):\n",
    "    seq_in = text[i: i + seq_length]\n",
    "    seq_out = text[i + seq_length]\n",
    "    sentences.append(seq_in)\n",
    "    next_chars.append(seq_out)\n",
    "n_patterns = len(sentences)\n",
    "print(\"Total Patterns: \", n_patterns)"
   ]
  },
  {
   "cell_type": "code",
   "execution_count": 7,
   "metadata": {},
   "outputs": [],
   "source": [
    "# binary\n",
    "X = np.zeros((len(sentences), seq_length, len(chars)), dtype=np.bool)\n",
    "y = np.zeros((len(sentences), len(chars)), dtype=np.bool)\n",
    "\n",
    "for i, sentence in enumerate(sentences):\n",
    "    for t, char in enumerate(sentence):\n",
    "        X[i, t, char_to_int[char]] = 1\n",
    "    y[i, char_to_int[next_chars[i]]] = 1"
   ]
  },
  {
   "cell_type": "code",
   "execution_count": 10,
   "metadata": {},
   "outputs": [],
   "source": [
    "model = Sequential()\n",
    "model.add(LSTM(256, return_sequences=True, input_shape=(seq_length, len(chars))))\n",
    "model.add(Dropout(0.2))\n",
    "model.add(LSTM(256, return_sequences=False))\n",
    "model.add(Dropout(0.2))\n",
    "model.add(Dense(len(chars)))\n",
    "model.add(Activation('softmax'))\n",
    "\n",
    "model.compile(loss='categorical_crossentropy', optimizer='adam')"
   ]
  },
  {
   "cell_type": "code",
   "execution_count": 11,
   "metadata": {},
   "outputs": [],
   "source": [
    "def sample(preds, temperature = 1.0):\n",
    "    # helper function to sample an index from a probability array\n",
    "\n",
    "    preds = np.asarray(preds).astype('float')\n",
    "    preds = np.log(preds) / temperature\n",
    "\n",
    "    # Fix division by 0\n",
    "    preds[preds == np.inf] = 0\n",
    "\n",
    "    exp_preds = np.exp(preds)\n",
    "    preds =  exp_preds / np.sum(exp_preds)\n",
    "    \n",
    "    return np.argmax(np.random.multinomial(1, preds, 1))"
   ]
  },
  {
   "cell_type": "code",
   "execution_count": 15,
   "metadata": {
    "scrolled": true
   },
   "outputs": [
    {
     "name": "stdout",
     "output_type": "stream",
     "text": [
      "Epoch 1/25\n",
      "46817/46817 [==============================] - 207s 4ms/step - loss: 1.9716\n",
      "Epoch 2/25\n",
      "46817/46817 [==============================] - 209s 4ms/step - loss: 1.8200\n",
      "Epoch 3/25\n",
      "46817/46817 [==============================] - 199s 4ms/step - loss: 1.7225\n",
      "Epoch 4/25\n",
      "46817/46817 [==============================] - 203s 4ms/step - loss: 1.6397\n",
      "Epoch 5/25\n",
      "46817/46817 [==============================] - 201s 4ms/step - loss: 1.5719\n",
      "Epoch 6/25\n",
      "46817/46817 [==============================] - 202s 4ms/step - loss: 1.5072\n",
      "Epoch 7/25\n",
      "46817/46817 [==============================] - 193s 4ms/step - loss: 1.4459\n",
      "Epoch 8/25\n",
      "46817/46817 [==============================] - 194s 4ms/step - loss: 1.3770\n",
      "Epoch 9/25\n",
      "46817/46817 [==============================] - 199s 4ms/step - loss: 1.3134\n",
      "Epoch 10/25\n",
      "46817/46817 [==============================] - 199s 4ms/step - loss: 1.2439\n",
      "Epoch 11/25\n",
      "46817/46817 [==============================] - 200s 4ms/step - loss: 1.1735\n",
      "Epoch 12/25\n",
      "46817/46817 [==============================] - 201s 4ms/step - loss: 1.1100\n",
      "Epoch 13/25\n",
      "46817/46817 [==============================] - 201s 4ms/step - loss: 1.0423\n",
      "Epoch 14/25\n",
      "46817/46817 [==============================] - 197s 4ms/step - loss: 0.9745\n",
      "Epoch 15/25\n",
      "46817/46817 [==============================] - 198s 4ms/step - loss: 0.9179\n",
      "Epoch 16/25\n",
      "46817/46817 [==============================] - 199s 4ms/step - loss: 0.8535\n",
      "Epoch 17/25\n",
      "46817/46817 [==============================] - 198s 4ms/step - loss: 0.8049\n",
      "Epoch 18/25\n",
      "46817/46817 [==============================] - 198s 4ms/step - loss: 0.7476\n",
      "Epoch 19/25\n",
      "46817/46817 [==============================] - 196s 4ms/step - loss: 0.7084\n",
      "Epoch 20/25\n",
      "46817/46817 [==============================] - 202s 4ms/step - loss: 0.6641\n",
      "Epoch 21/25\n",
      "46817/46817 [==============================] - 201s 4ms/step - loss: 0.6229\n",
      "Epoch 22/25\n",
      "46817/46817 [==============================] - 283s 6ms/step - loss: 0.5896\n",
      "Epoch 23/25\n",
      "46817/46817 [==============================] - 388s 8ms/step - loss: 0.5547\n",
      "Epoch 24/25\n",
      "46817/46817 [==============================] - 388s 8ms/step - loss: 0.5294\n",
      "Epoch 25/25\n",
      "46817/46817 [==============================] - 389s 8ms/step - loss: 0.5050\n"
     ]
    }
   ],
   "source": [
    "model.fit(X, y, batch_size=64, epochs=25)\n",
    "model.save_weights('sonnet_25_64.h5')"
   ]
  },
  {
   "cell_type": "code",
   "execution_count": null,
   "metadata": {},
   "outputs": [],
   "source": [
    "model.load_weights('../weights/sonnet_25_64.h5')"
   ]
  },
  {
   "cell_type": "code",
   "execution_count": 48,
   "metadata": {},
   "outputs": [
    {
     "name": "stdout",
     "output_type": "stream",
     "text": [
      "\n",
      "\n",
      "temperature = 1.5\n",
      "\n",
      "shall i compare thee to a summer's day?\n",
      "thine for my self, and think to tebpented,\n",
      "like bainting us a lrevev uwme!it tee.\n",
      "of be thy gives whed wasch doth mest bud look,\n",
      "yer when the hote for can of be-tectioned\n",
      "such awe that well, yet for i leave, devery;\n",
      "if so rught in dectered, in what should line yees,\n",
      "even or sext, love hose, my this behild,\n",
      "when i am sterves to saavy i thre, shall be thy.\n",
      "and no being boo his and then commonged,\n",
      "my heavt is thee thrive which is but as motor.\n",
      "hast i my men my verse hath constrarey,\n",
      "and such dreadic sanf the pered to keeps,\n",
      "and after th-all her mourn thus very one,\n",
      "gov, with from when your proised o's all ,\n",
      "if is not love's fring my self being ear.\n",
      "if i in my add of jegjay bage ade?\n",
      "one.\n",
      "and that ages in menathing merimr:\n",
      "for live lose, and fair i have thee lecvesing:\n",
      "who so recessang will aw\n",
      "\n",
      "\n",
      "temperature = 0.75\n",
      "\n",
      "shall i compare thee to a summer's day?\n",
      "and the perplecure you may i in me tongue,\n",
      "contion, nor can be black not me for me.\n",
      "here what is not every part if regort,\n",
      "and from their rranobbath then disgained:\n",
      "and abless with the tend of all my grists love.\n",
      "yet then my heart as a counter prove, might,\n",
      "when i be they see doth geven thee me all,\n",
      "i dee the booution of such strick love;\n",
      "and terrs roon as fast to make me soul,\n",
      "for thy self all in the perced,\n",
      "th' all-tormen's full as thee i sveppes ree,\n",
      "my love as there, rute more blood in see,\n",
      "seeking the fair appecien thee have be their rebe,\n",
      "ence teture is the tannd weep and heart\n",
      "goosing with my self i'll vive, which were not love\n",
      "you distressioned 'sthence, thou my life?\n",
      "the other praised of their roon lore,\n",
      "when i (deven i am not consting firmt,\n",
      "and all my tongues inceived my woeks t\n",
      "\n",
      "\n",
      "temperature = 0.25\n",
      "\n",
      "shall i compare thee to a summer's day?\n",
      "thou better is is a part to me all me not,\n",
      "nor tend, nor self all me not on your self,\n",
      "and in my heart is the world with growness cone.\n",
      "o have i lose that which i from my weed,\n",
      "as firgil hould of thy world be brage from freeks,\n",
      "for shall need from me with my self despair:\n",
      "and from the fran as pater thee have eyes,\n",
      "some in their habbent with the dead thee.\n",
      "i so the tongue in this his love all own\n",
      "twrate i seek at death of your eyes doth grow.\n",
      "then change me will the weel with the remembered:\n",
      "but when it heaven's hours and see in thee.\n",
      "the ourwar shave shall self i formed to me.\n",
      "when thou shalt strong my every thy self,\n",
      "all thee i be thy woe, that me all wherein in good,\n",
      "succees the world with blasse that where thou mayst prove,\n",
      "age statuse,\n",
      "that he say i do both the sterping the mend,\n",
      "the e\n"
     ]
    }
   ],
   "source": [
    "char_length = 800  # genrated length\n",
    "for temperature in [1.5, 0.75, 0.25]:\n",
    "    print( '\\n' + '\\n' + 'temperature = ' + str(temperature) + '\\n')\n",
    "    \n",
    "    generated = 'shall i compare thee to a summer\\'s day?\\n'\n",
    "    sentence = generated\n",
    "    \n",
    "    #sys.stdout.write(generated)\n",
    "    for i in range(char_length):\n",
    "        x = np.zeros((1, seq_length, len(chars)))\n",
    "        for t, char in enumerate(sentence):\n",
    "            x[0, t, char_to_int[char]] = 1.\n",
    "\n",
    "        preds = model.predict(x, verbose=0)[0]\n",
    "        next_index = sample(preds, temperature)\n",
    "        next_char = int_to_char[next_index]\n",
    "\n",
    "        generated += next_char\n",
    "        sentence = sentence[1:] + next_char\n",
    "        \n",
    "        #sys.stdout.write(next_char)\n",
    "        #sys.stdout.flush()\n",
    "    print(generated)"
   ]
  },
  {
   "cell_type": "code",
   "execution_count": null,
   "metadata": {},
   "outputs": [],
   "source": []
  }
 ],
 "metadata": {
  "kernelspec": {
   "display_name": "Python 3",
   "language": "python",
   "name": "python3"
  },
  "language_info": {
   "codemirror_mode": {
    "name": "ipython",
    "version": 3
   },
   "file_extension": ".py",
   "mimetype": "text/x-python",
   "name": "python",
   "nbconvert_exporter": "python",
   "pygments_lexer": "ipython3",
   "version": "3.5.4"
  }
 },
 "nbformat": 4,
 "nbformat_minor": 2
}
